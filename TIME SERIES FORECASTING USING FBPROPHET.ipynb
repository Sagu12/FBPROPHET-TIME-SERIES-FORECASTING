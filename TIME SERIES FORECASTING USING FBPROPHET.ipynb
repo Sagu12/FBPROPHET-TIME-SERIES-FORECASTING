{
 "cells": [
  {
   "cell_type": "markdown",
   "metadata": {},
   "source": [
    "Steps involved for the time series forecasting\n",
    "1. Introduction and Installation\n",
    "2. Data Preprocessing\n",
    "3. Model fitting\n",
    "4. Obtaining the forecast\n",
    "5. Plotting the forecast\n",
    "6. Cross validation\n",
    "7. Computing the performance metrics\n",
    "8. Visualize the performance metrics\n",
    "9. Conclusions"
   ]
  },
  {
   "cell_type": "code",
   "execution_count": 2,
   "metadata": {},
   "outputs": [],
   "source": [
    "import pandas as pd\n",
    "import matplotlib.pyplot as plt\n",
    "import numpy as np\n",
    "import fbprophet\n",
    "%matplotlib inline\n",
    "import warnings"
   ]
  },
  {
   "cell_type": "code",
   "execution_count": 63,
   "metadata": {},
   "outputs": [],
   "source": [
    "warnings.filterwarnings(\"ignore\")"
   ]
  },
  {
   "cell_type": "code",
   "execution_count": 64,
   "metadata": {},
   "outputs": [
    {
     "data": {
      "text/html": [
       "<div>\n",
       "<style scoped>\n",
       "    .dataframe tbody tr th:only-of-type {\n",
       "        vertical-align: middle;\n",
       "    }\n",
       "\n",
       "    .dataframe tbody tr th {\n",
       "        vertical-align: top;\n",
       "    }\n",
       "\n",
       "    .dataframe thead th {\n",
       "        text-align: right;\n",
       "    }\n",
       "</style>\n",
       "<table border=\"1\" class=\"dataframe\">\n",
       "  <thead>\n",
       "    <tr style=\"text-align: right;\">\n",
       "      <th></th>\n",
       "      <th>Month</th>\n",
       "      <th>Monthly milk production: pounds per cow. Jan 62 ? Dec 75</th>\n",
       "    </tr>\n",
       "  </thead>\n",
       "  <tbody>\n",
       "    <tr>\n",
       "      <th>0</th>\n",
       "      <td>1962-01</td>\n",
       "      <td>589</td>\n",
       "    </tr>\n",
       "    <tr>\n",
       "      <th>1</th>\n",
       "      <td>1962-02</td>\n",
       "      <td>561</td>\n",
       "    </tr>\n",
       "    <tr>\n",
       "      <th>2</th>\n",
       "      <td>1962-03</td>\n",
       "      <td>640</td>\n",
       "    </tr>\n",
       "    <tr>\n",
       "      <th>3</th>\n",
       "      <td>1962-04</td>\n",
       "      <td>656</td>\n",
       "    </tr>\n",
       "    <tr>\n",
       "      <th>4</th>\n",
       "      <td>1962-05</td>\n",
       "      <td>727</td>\n",
       "    </tr>\n",
       "  </tbody>\n",
       "</table>\n",
       "</div>"
      ],
      "text/plain": [
       "     Month  Monthly milk production: pounds per cow. Jan 62 ? Dec 75\n",
       "0  1962-01                                                589       \n",
       "1  1962-02                                                561       \n",
       "2  1962-03                                                640       \n",
       "3  1962-04                                                656       \n",
       "4  1962-05                                                727       "
      ]
     },
     "execution_count": 64,
     "metadata": {},
     "output_type": "execute_result"
    }
   ],
   "source": [
    "df= pd.read_csv(r\"milk.csv\")\n",
    "df.head()"
   ]
  },
  {
   "cell_type": "code",
   "execution_count": 65,
   "metadata": {},
   "outputs": [
    {
     "data": {
      "text/html": [
       "<div>\n",
       "<style scoped>\n",
       "    .dataframe tbody tr th:only-of-type {\n",
       "        vertical-align: middle;\n",
       "    }\n",
       "\n",
       "    .dataframe tbody tr th {\n",
       "        vertical-align: top;\n",
       "    }\n",
       "\n",
       "    .dataframe thead th {\n",
       "        text-align: right;\n",
       "    }\n",
       "</style>\n",
       "<table border=\"1\" class=\"dataframe\">\n",
       "  <thead>\n",
       "    <tr style=\"text-align: right;\">\n",
       "      <th></th>\n",
       "      <th>Month</th>\n",
       "      <th>Monthly milk production: pounds per cow. Jan 62 ? Dec 75</th>\n",
       "    </tr>\n",
       "  </thead>\n",
       "  <tbody>\n",
       "    <tr>\n",
       "      <th>163</th>\n",
       "      <td>1975-08</td>\n",
       "      <td>858</td>\n",
       "    </tr>\n",
       "    <tr>\n",
       "      <th>164</th>\n",
       "      <td>1975-09</td>\n",
       "      <td>817</td>\n",
       "    </tr>\n",
       "    <tr>\n",
       "      <th>165</th>\n",
       "      <td>1975-10</td>\n",
       "      <td>827</td>\n",
       "    </tr>\n",
       "    <tr>\n",
       "      <th>166</th>\n",
       "      <td>1975-11</td>\n",
       "      <td>797</td>\n",
       "    </tr>\n",
       "    <tr>\n",
       "      <th>167</th>\n",
       "      <td>1975-12</td>\n",
       "      <td>843</td>\n",
       "    </tr>\n",
       "  </tbody>\n",
       "</table>\n",
       "</div>"
      ],
      "text/plain": [
       "       Month  Monthly milk production: pounds per cow. Jan 62 ? Dec 75\n",
       "163  1975-08                                                858       \n",
       "164  1975-09                                                817       \n",
       "165  1975-10                                                827       \n",
       "166  1975-11                                                797       \n",
       "167  1975-12                                                843       "
      ]
     },
     "execution_count": 65,
     "metadata": {},
     "output_type": "execute_result"
    }
   ],
   "source": [
    "df.tail()"
   ]
  },
  {
   "cell_type": "code",
   "execution_count": 66,
   "metadata": {},
   "outputs": [
    {
     "data": {
      "text/plain": [
       "Month                                                       object\n",
       "Monthly milk production: pounds per cow. Jan 62 ? Dec 75     int64\n",
       "dtype: object"
      ]
     },
     "execution_count": 66,
     "metadata": {},
     "output_type": "execute_result"
    }
   ],
   "source": [
    "df.dtypes"
   ]
  },
  {
   "cell_type": "code",
   "execution_count": 67,
   "metadata": {},
   "outputs": [],
   "source": [
    "d= df.copy()"
   ]
  },
  {
   "cell_type": "code",
   "execution_count": 68,
   "metadata": {},
   "outputs": [
    {
     "data": {
      "text/html": [
       "<div>\n",
       "<style scoped>\n",
       "    .dataframe tbody tr th:only-of-type {\n",
       "        vertical-align: middle;\n",
       "    }\n",
       "\n",
       "    .dataframe tbody tr th {\n",
       "        vertical-align: top;\n",
       "    }\n",
       "\n",
       "    .dataframe thead th {\n",
       "        text-align: right;\n",
       "    }\n",
       "</style>\n",
       "<table border=\"1\" class=\"dataframe\">\n",
       "  <thead>\n",
       "    <tr style=\"text-align: right;\">\n",
       "      <th></th>\n",
       "      <th>Month</th>\n",
       "      <th>Monthly milk production: pounds per cow. Jan 62 ? Dec 75</th>\n",
       "    </tr>\n",
       "  </thead>\n",
       "  <tbody>\n",
       "    <tr>\n",
       "      <th>0</th>\n",
       "      <td>1962-01</td>\n",
       "      <td>589</td>\n",
       "    </tr>\n",
       "    <tr>\n",
       "      <th>1</th>\n",
       "      <td>1962-02</td>\n",
       "      <td>561</td>\n",
       "    </tr>\n",
       "    <tr>\n",
       "      <th>2</th>\n",
       "      <td>1962-03</td>\n",
       "      <td>640</td>\n",
       "    </tr>\n",
       "    <tr>\n",
       "      <th>3</th>\n",
       "      <td>1962-04</td>\n",
       "      <td>656</td>\n",
       "    </tr>\n",
       "    <tr>\n",
       "      <th>4</th>\n",
       "      <td>1962-05</td>\n",
       "      <td>727</td>\n",
       "    </tr>\n",
       "  </tbody>\n",
       "</table>\n",
       "</div>"
      ],
      "text/plain": [
       "     Month  Monthly milk production: pounds per cow. Jan 62 ? Dec 75\n",
       "0  1962-01                                                589       \n",
       "1  1962-02                                                561       \n",
       "2  1962-03                                                640       \n",
       "3  1962-04                                                656       \n",
       "4  1962-05                                                727       "
      ]
     },
     "execution_count": 68,
     "metadata": {},
     "output_type": "execute_result"
    }
   ],
   "source": [
    "d.head()"
   ]
  },
  {
   "cell_type": "code",
   "execution_count": 69,
   "metadata": {},
   "outputs": [],
   "source": [
    "d.set_index(\"Month\", inplace=True)"
   ]
  },
  {
   "cell_type": "code",
   "execution_count": 70,
   "metadata": {},
   "outputs": [
    {
     "data": {
      "text/plain": [
       "<AxesSubplot:xlabel='Month'>"
      ]
     },
     "execution_count": 70,
     "metadata": {},
     "output_type": "execute_result"
    },
    {
     "data": {
      "image/png": "[encoded data removed]",
      "text/plain": [
       "<Figure size 432x288 with 1 Axes>"
      ]
     },
     "metadata": {
      "needs_background": "light"
     },
     "output_type": "display_data"
    }
   ],
   "source": [
    "d.plot()"
   ]
  },
  {
   "cell_type": "code",
   "execution_count": 71,
   "metadata": {},
   "outputs": [],
   "source": [
    "#above we can see seasonal trend in the data"
   ]
  },
  {
   "cell_type": "code",
   "execution_count": 72,
   "metadata": {},
   "outputs": [],
   "source": [
    "#always change the month column with the name ds and target column with the name y when using fbprophet"
   ]
  },
  {
   "cell_type": "code",
   "execution_count": 73,
   "metadata": {},
   "outputs": [],
   "source": [
    "df.columns= [\"ds\",\"y\"]"
   ]
  },
  {
   "cell_type": "code",
   "execution_count": 74,
   "metadata": {},
   "outputs": [
    {
     "data": {
      "text/html": [
       "<div>\n",
       "<style scoped>\n",
       "    .dataframe tbody tr th:only-of-type {\n",
       "        vertical-align: middle;\n",
       "    }\n",
       "\n",
       "    .dataframe tbody tr th {\n",
       "        vertical-align: top;\n",
       "    }\n",
       "\n",
       "    .dataframe thead th {\n",
       "        text-align: right;\n",
       "    }\n",
       "</style>\n",
       "<table border=\"1\" class=\"dataframe\">\n",
       "  <thead>\n",
       "    <tr style=\"text-align: right;\">\n",
       "      <th></th>\n",
       "      <th>ds</th>\n",
       "      <th>y</th>\n",
       "    </tr>\n",
       "  </thead>\n",
       "  <tbody>\n",
       "    <tr>\n",
       "      <th>0</th>\n",
       "      <td>1962-01</td>\n",
       "      <td>589</td>\n",
       "    </tr>\n",
       "    <tr>\n",
       "      <th>1</th>\n",
       "      <td>1962-02</td>\n",
       "      <td>561</td>\n",
       "    </tr>\n",
       "    <tr>\n",
       "      <th>2</th>\n",
       "      <td>1962-03</td>\n",
       "      <td>640</td>\n",
       "    </tr>\n",
       "    <tr>\n",
       "      <th>3</th>\n",
       "      <td>1962-04</td>\n",
       "      <td>656</td>\n",
       "    </tr>\n",
       "    <tr>\n",
       "      <th>4</th>\n",
       "      <td>1962-05</td>\n",
       "      <td>727</td>\n",
       "    </tr>\n",
       "  </tbody>\n",
       "</table>\n",
       "</div>"
      ],
      "text/plain": [
       "        ds    y\n",
       "0  1962-01  589\n",
       "1  1962-02  561\n",
       "2  1962-03  640\n",
       "3  1962-04  656\n",
       "4  1962-05  727"
      ]
     },
     "execution_count": 74,
     "metadata": {},
     "output_type": "execute_result"
    }
   ],
   "source": [
    "df.head()"
   ]
  },
  {
   "cell_type": "code",
   "execution_count": 75,
   "metadata": {},
   "outputs": [],
   "source": [
    "df[\"ds\"]= pd.to_datetime(df.ds)"
   ]
  },
  {
   "cell_type": "code",
   "execution_count": 76,
   "metadata": {},
   "outputs": [
    {
     "data": {
      "text/html": [
       "<div>\n",
       "<style scoped>\n",
       "    .dataframe tbody tr th:only-of-type {\n",
       "        vertical-align: middle;\n",
       "    }\n",
       "\n",
       "    .dataframe tbody tr th {\n",
       "        vertical-align: top;\n",
       "    }\n",
       "\n",
       "    .dataframe thead th {\n",
       "        text-align: right;\n",
       "    }\n",
       "</style>\n",
       "<table border=\"1\" class=\"dataframe\">\n",
       "  <thead>\n",
       "    <tr style=\"text-align: right;\">\n",
       "      <th></th>\n",
       "      <th>ds</th>\n",
       "      <th>y</th>\n",
       "    </tr>\n",
       "  </thead>\n",
       "  <tbody>\n",
       "    <tr>\n",
       "      <th>0</th>\n",
       "      <td>1962-01-01</td>\n",
       "      <td>589</td>\n",
       "    </tr>\n",
       "    <tr>\n",
       "      <th>1</th>\n",
       "      <td>1962-02-01</td>\n",
       "      <td>561</td>\n",
       "    </tr>\n",
       "    <tr>\n",
       "      <th>2</th>\n",
       "      <td>1962-03-01</td>\n",
       "      <td>640</td>\n",
       "    </tr>\n",
       "    <tr>\n",
       "      <th>3</th>\n",
       "      <td>1962-04-01</td>\n",
       "      <td>656</td>\n",
       "    </tr>\n",
       "    <tr>\n",
       "      <th>4</th>\n",
       "      <td>1962-05-01</td>\n",
       "      <td>727</td>\n",
       "    </tr>\n",
       "  </tbody>\n",
       "</table>\n",
       "</div>"
      ],
      "text/plain": [
       "          ds    y\n",
       "0 1962-01-01  589\n",
       "1 1962-02-01  561\n",
       "2 1962-03-01  640\n",
       "3 1962-04-01  656\n",
       "4 1962-05-01  727"
      ]
     },
     "execution_count": 76,
     "metadata": {},
     "output_type": "execute_result"
    }
   ],
   "source": [
    "df.head()"
   ]
  },
  {
   "cell_type": "code",
   "execution_count": 77,
   "metadata": {},
   "outputs": [
    {
     "data": {
      "text/plain": [
       "ds    datetime64[ns]\n",
       "y              int64\n",
       "dtype: object"
      ]
     },
     "execution_count": 77,
     "metadata": {},
     "output_type": "execute_result"
    }
   ],
   "source": [
    "df.dtypes"
   ]
  },
  {
   "cell_type": "markdown",
   "metadata": {},
   "source": [
    "stationarity of data"
   ]
  },
  {
   "cell_type": "code",
   "execution_count": 78,
   "metadata": {},
   "outputs": [
    {
     "data": {
      "text/plain": [
       "<AxesSubplot:>"
      ]
     },
     "execution_count": 78,
     "metadata": {},
     "output_type": "execute_result"
    },
    {
     "data": {
      "image/png": "[encoded data removed]",
      "text/plain": [
       "<Figure size 432x288 with 1 Axes>"
      ]
     },
     "metadata": {
      "needs_background": "light"
     },
     "output_type": "display_data"
    }
   ],
   "source": [
    "df.y.plot()"
   ]
  },
  {
   "cell_type": "code",
   "execution_count": 79,
   "metadata": {},
   "outputs": [],
   "source": [
    "from fbprophet import Prophet"
   ]
  },
  {
   "cell_type": "code",
   "execution_count": 80,
   "metadata": {},
   "outputs": [
    {
     "data": {
      "text/html": [
       "<div>\n",
       "<style scoped>\n",
       "    .dataframe tbody tr th:only-of-type {\n",
       "        vertical-align: middle;\n",
       "    }\n",
       "\n",
       "    .dataframe tbody tr th {\n",
       "        vertical-align: top;\n",
       "    }\n",
       "\n",
       "    .dataframe thead th {\n",
       "        text-align: right;\n",
       "    }\n",
       "</style>\n",
       "<table border=\"1\" class=\"dataframe\">\n",
       "  <thead>\n",
       "    <tr style=\"text-align: right;\">\n",
       "      <th></th>\n",
       "      <th>ds</th>\n",
       "      <th>y</th>\n",
       "    </tr>\n",
       "  </thead>\n",
       "  <tbody>\n",
       "    <tr>\n",
       "      <th>0</th>\n",
       "      <td>1962-01-01</td>\n",
       "      <td>589</td>\n",
       "    </tr>\n",
       "    <tr>\n",
       "      <th>1</th>\n",
       "      <td>1962-02-01</td>\n",
       "      <td>561</td>\n",
       "    </tr>\n",
       "    <tr>\n",
       "      <th>2</th>\n",
       "      <td>1962-03-01</td>\n",
       "      <td>640</td>\n",
       "    </tr>\n",
       "    <tr>\n",
       "      <th>3</th>\n",
       "      <td>1962-04-01</td>\n",
       "      <td>656</td>\n",
       "    </tr>\n",
       "    <tr>\n",
       "      <th>4</th>\n",
       "      <td>1962-05-01</td>\n",
       "      <td>727</td>\n",
       "    </tr>\n",
       "  </tbody>\n",
       "</table>\n",
       "</div>"
      ],
      "text/plain": [
       "          ds    y\n",
       "0 1962-01-01  589\n",
       "1 1962-02-01  561\n",
       "2 1962-03-01  640\n",
       "3 1962-04-01  656\n",
       "4 1962-05-01  727"
      ]
     },
     "execution_count": 80,
     "metadata": {},
     "output_type": "execute_result"
    }
   ],
   "source": [
    "df.head()"
   ]
  },
  {
   "cell_type": "code",
   "execution_count": 81,
   "metadata": {},
   "outputs": [],
   "source": [
    "model= Prophet()"
   ]
  },
  {
   "cell_type": "code",
   "execution_count": 82,
   "metadata": {},
   "outputs": [
    {
     "name": "stderr",
     "output_type": "stream",
     "text": [
      "INFO:fbprophet:Disabling weekly seasonality. Run prophet with weekly_seasonality=True to override this.\n",
      "INFO:fbprophet:Disabling daily seasonality. Run prophet with daily_seasonality=True to override this.\n"
     ]
    },
    {
     "data": {
      "text/plain": [
       "<fbprophet.forecaster.Prophet at 0x16ec99e9100>"
      ]
     },
     "execution_count": 82,
     "metadata": {},
     "output_type": "execute_result"
    }
   ],
   "source": [
    "model.fit(df)"
   ]
  },
  {
   "cell_type": "code",
   "execution_count": 83,
   "metadata": {},
   "outputs": [
    {
     "data": {
      "text/plain": [
       "<fbprophet.forecaster.Prophet at 0x16ec99e9100>"
      ]
     },
     "execution_count": 83,
     "metadata": {},
     "output_type": "execute_result"
    }
   ],
   "source": [
    "model"
   ]
  },
  {
   "cell_type": "code",
   "execution_count": 84,
   "metadata": {},
   "outputs": [
    {
     "data": {
      "text/plain": [
       "('linear',\n",
       " None,\n",
       " OrderedDict([('yearly',\n",
       "               {'period': 365.25,\n",
       "                'fourier_order': 10,\n",
       "                'prior_scale': 10.0,\n",
       "                'mode': 'additive',\n",
       "                'condition_name': None})]))"
      ]
     },
     "execution_count": 84,
     "metadata": {},
     "output_type": "execute_result"
    }
   ],
   "source": [
    "model.growth, model.holidays, model.seasonalities"
   ]
  },
  {
   "cell_type": "code",
   "execution_count": 85,
   "metadata": {},
   "outputs": [],
   "source": [
    "# creating future dates for prediction into a dataframe\n",
    "future= model.make_future_dataframe(periods=365)"
   ]
  },
  {
   "cell_type": "code",
   "execution_count": 86,
   "metadata": {},
   "outputs": [
    {
     "data": {
      "text/html": [
       "<div>\n",
       "<style scoped>\n",
       "    .dataframe tbody tr th:only-of-type {\n",
       "        vertical-align: middle;\n",
       "    }\n",
       "\n",
       "    .dataframe tbody tr th {\n",
       "        vertical-align: top;\n",
       "    }\n",
       "\n",
       "    .dataframe thead th {\n",
       "        text-align: right;\n",
       "    }\n",
       "</style>\n",
       "<table border=\"1\" class=\"dataframe\">\n",
       "  <thead>\n",
       "    <tr style=\"text-align: right;\">\n",
       "      <th></th>\n",
       "      <th>ds</th>\n",
       "      <th>y</th>\n",
       "    </tr>\n",
       "  </thead>\n",
       "  <tbody>\n",
       "    <tr>\n",
       "      <th>163</th>\n",
       "      <td>1975-08-01</td>\n",
       "      <td>858</td>\n",
       "    </tr>\n",
       "    <tr>\n",
       "      <th>164</th>\n",
       "      <td>1975-09-01</td>\n",
       "      <td>817</td>\n",
       "    </tr>\n",
       "    <tr>\n",
       "      <th>165</th>\n",
       "      <td>1975-10-01</td>\n",
       "      <td>827</td>\n",
       "    </tr>\n",
       "    <tr>\n",
       "      <th>166</th>\n",
       "      <td>1975-11-01</td>\n",
       "      <td>797</td>\n",
       "    </tr>\n",
       "    <tr>\n",
       "      <th>167</th>\n",
       "      <td>1975-12-01</td>\n",
       "      <td>843</td>\n",
       "    </tr>\n",
       "  </tbody>\n",
       "</table>\n",
       "</div>"
      ],
      "text/plain": [
       "            ds    y\n",
       "163 1975-08-01  858\n",
       "164 1975-09-01  817\n",
       "165 1975-10-01  827\n",
       "166 1975-11-01  797\n",
       "167 1975-12-01  843"
      ]
     },
     "execution_count": 86,
     "metadata": {},
     "output_type": "execute_result"
    }
   ],
   "source": [
    "df.tail()"
   ]
  },
  {
   "cell_type": "code",
   "execution_count": 87,
   "metadata": {},
   "outputs": [
    {
     "data": {
      "text/html": [
       "<div>\n",
       "<style scoped>\n",
       "    .dataframe tbody tr th:only-of-type {\n",
       "        vertical-align: middle;\n",
       "    }\n",
       "\n",
       "    .dataframe tbody tr th {\n",
       "        vertical-align: top;\n",
       "    }\n",
       "\n",
       "    .dataframe thead th {\n",
       "        text-align: right;\n",
       "    }\n",
       "</style>\n",
       "<table border=\"1\" class=\"dataframe\">\n",
       "  <thead>\n",
       "    <tr style=\"text-align: right;\">\n",
       "      <th></th>\n",
       "      <th>ds</th>\n",
       "    </tr>\n",
       "  </thead>\n",
       "  <tbody>\n",
       "    <tr>\n",
       "      <th>528</th>\n",
       "      <td>1976-11-26</td>\n",
       "    </tr>\n",
       "    <tr>\n",
       "      <th>529</th>\n",
       "      <td>1976-11-27</td>\n",
       "    </tr>\n",
       "    <tr>\n",
       "      <th>530</th>\n",
       "      <td>1976-11-28</td>\n",
       "    </tr>\n",
       "    <tr>\n",
       "      <th>531</th>\n",
       "      <td>1976-11-29</td>\n",
       "    </tr>\n",
       "    <tr>\n",
       "      <th>532</th>\n",
       "      <td>1976-11-30</td>\n",
       "    </tr>\n",
       "  </tbody>\n",
       "</table>\n",
       "</div>"
      ],
      "text/plain": [
       "            ds\n",
       "528 1976-11-26\n",
       "529 1976-11-27\n",
       "530 1976-11-28\n",
       "531 1976-11-29\n",
       "532 1976-11-30"
      ]
     },
     "execution_count": 87,
     "metadata": {},
     "output_type": "execute_result"
    }
   ],
   "source": [
    "future.tail()"
   ]
  },
  {
   "cell_type": "code",
   "execution_count": 88,
   "metadata": {},
   "outputs": [],
   "source": [
    "pred=model.predict(future)"
   ]
  },
  {
   "cell_type": "code",
   "execution_count": 89,
   "metadata": {},
   "outputs": [
    {
     "data": {
      "text/html": [
       "<div>\n",
       "<style scoped>\n",
       "    .dataframe tbody tr th:only-of-type {\n",
       "        vertical-align: middle;\n",
       "    }\n",
       "\n",
       "    .dataframe tbody tr th {\n",
       "        vertical-align: top;\n",
       "    }\n",
       "\n",
       "    .dataframe thead th {\n",
       "        text-align: right;\n",
       "    }\n",
       "</style>\n",
       "<table border=\"1\" class=\"dataframe\">\n",
       "  <thead>\n",
       "    <tr style=\"text-align: right;\">\n",
       "      <th></th>\n",
       "      <th>ds</th>\n",
       "      <th>trend</th>\n",
       "      <th>yhat_lower</th>\n",
       "      <th>yhat_upper</th>\n",
       "      <th>trend_lower</th>\n",
       "      <th>trend_upper</th>\n",
       "      <th>additive_terms</th>\n",
       "      <th>additive_terms_lower</th>\n",
       "      <th>additive_terms_upper</th>\n",
       "      <th>yearly</th>\n",
       "      <th>yearly_lower</th>\n",
       "      <th>yearly_upper</th>\n",
       "      <th>multiplicative_terms</th>\n",
       "      <th>multiplicative_terms_lower</th>\n",
       "      <th>multiplicative_terms_upper</th>\n",
       "      <th>yhat</th>\n",
       "    </tr>\n",
       "  </thead>\n",
       "  <tbody>\n",
       "    <tr>\n",
       "      <th>0</th>\n",
       "      <td>1962-01-01</td>\n",
       "      <td>606.849794</td>\n",
       "      <td>576.773188</td>\n",
       "      <td>596.555643</td>\n",
       "      <td>606.849794</td>\n",
       "      <td>606.849794</td>\n",
       "      <td>-20.104687</td>\n",
       "      <td>-20.104687</td>\n",
       "      <td>-20.104687</td>\n",
       "      <td>-20.104687</td>\n",
       "      <td>-20.104687</td>\n",
       "      <td>-20.104687</td>\n",
       "      <td>0.0</td>\n",
       "      <td>0.0</td>\n",
       "      <td>0.0</td>\n",
       "      <td>586.745106</td>\n",
       "    </tr>\n",
       "    <tr>\n",
       "      <th>1</th>\n",
       "      <td>1962-02-01</td>\n",
       "      <td>608.569237</td>\n",
       "      <td>535.771025</td>\n",
       "      <td>556.004242</td>\n",
       "      <td>608.569237</td>\n",
       "      <td>608.569237</td>\n",
       "      <td>-62.543222</td>\n",
       "      <td>-62.543222</td>\n",
       "      <td>-62.543222</td>\n",
       "      <td>-62.543222</td>\n",
       "      <td>-62.543222</td>\n",
       "      <td>-62.543222</td>\n",
       "      <td>0.0</td>\n",
       "      <td>0.0</td>\n",
       "      <td>0.0</td>\n",
       "      <td>546.026015</td>\n",
       "    </tr>\n",
       "    <tr>\n",
       "      <th>2</th>\n",
       "      <td>1962-03-01</td>\n",
       "      <td>610.122282</td>\n",
       "      <td>632.068986</td>\n",
       "      <td>651.297963</td>\n",
       "      <td>610.122282</td>\n",
       "      <td>610.122282</td>\n",
       "      <td>31.413370</td>\n",
       "      <td>31.413370</td>\n",
       "      <td>31.413370</td>\n",
       "      <td>31.413370</td>\n",
       "      <td>31.413370</td>\n",
       "      <td>31.413370</td>\n",
       "      <td>0.0</td>\n",
       "      <td>0.0</td>\n",
       "      <td>0.0</td>\n",
       "      <td>641.535653</td>\n",
       "    </tr>\n",
       "    <tr>\n",
       "      <th>3</th>\n",
       "      <td>1962-04-01</td>\n",
       "      <td>611.841725</td>\n",
       "      <td>647.823512</td>\n",
       "      <td>668.481735</td>\n",
       "      <td>611.841725</td>\n",
       "      <td>611.841725</td>\n",
       "      <td>46.743537</td>\n",
       "      <td>46.743537</td>\n",
       "      <td>46.743537</td>\n",
       "      <td>46.743537</td>\n",
       "      <td>46.743537</td>\n",
       "      <td>46.743537</td>\n",
       "      <td>0.0</td>\n",
       "      <td>0.0</td>\n",
       "      <td>0.0</td>\n",
       "      <td>658.585263</td>\n",
       "    </tr>\n",
       "    <tr>\n",
       "      <th>4</th>\n",
       "      <td>1962-05-01</td>\n",
       "      <td>613.505703</td>\n",
       "      <td>711.690249</td>\n",
       "      <td>731.924377</td>\n",
       "      <td>613.505703</td>\n",
       "      <td>613.505703</td>\n",
       "      <td>108.056343</td>\n",
       "      <td>108.056343</td>\n",
       "      <td>108.056343</td>\n",
       "      <td>108.056343</td>\n",
       "      <td>108.056343</td>\n",
       "      <td>108.056343</td>\n",
       "      <td>0.0</td>\n",
       "      <td>0.0</td>\n",
       "      <td>0.0</td>\n",
       "      <td>721.562045</td>\n",
       "    </tr>\n",
       "    <tr>\n",
       "      <th>...</th>\n",
       "      <td>...</td>\n",
       "      <td>...</td>\n",
       "      <td>...</td>\n",
       "      <td>...</td>\n",
       "      <td>...</td>\n",
       "      <td>...</td>\n",
       "      <td>...</td>\n",
       "      <td>...</td>\n",
       "      <td>...</td>\n",
       "      <td>...</td>\n",
       "      <td>...</td>\n",
       "      <td>...</td>\n",
       "      <td>...</td>\n",
       "      <td>...</td>\n",
       "      <td>...</td>\n",
       "      <td>...</td>\n",
       "    </tr>\n",
       "    <tr>\n",
       "      <th>528</th>\n",
       "      <td>1976-11-26</td>\n",
       "      <td>875.143414</td>\n",
       "      <td>803.768403</td>\n",
       "      <td>827.379249</td>\n",
       "      <td>870.953939</td>\n",
       "      <td>880.212869</td>\n",
       "      <td>-59.972681</td>\n",
       "      <td>-59.972681</td>\n",
       "      <td>-59.972681</td>\n",
       "      <td>-59.972681</td>\n",
       "      <td>-59.972681</td>\n",
       "      <td>-59.972681</td>\n",
       "      <td>0.0</td>\n",
       "      <td>0.0</td>\n",
       "      <td>0.0</td>\n",
       "      <td>815.170733</td>\n",
       "    </tr>\n",
       "    <tr>\n",
       "      <th>529</th>\n",
       "      <td>1976-11-27</td>\n",
       "      <td>875.161832</td>\n",
       "      <td>808.288977</td>\n",
       "      <td>829.330297</td>\n",
       "      <td>870.942349</td>\n",
       "      <td>880.252186</td>\n",
       "      <td>-56.771512</td>\n",
       "      <td>-56.771512</td>\n",
       "      <td>-56.771512</td>\n",
       "      <td>-56.771512</td>\n",
       "      <td>-56.771512</td>\n",
       "      <td>-56.771512</td>\n",
       "      <td>0.0</td>\n",
       "      <td>0.0</td>\n",
       "      <td>0.0</td>\n",
       "      <td>818.390320</td>\n",
       "    </tr>\n",
       "    <tr>\n",
       "      <th>530</th>\n",
       "      <td>1976-11-28</td>\n",
       "      <td>875.180250</td>\n",
       "      <td>810.989030</td>\n",
       "      <td>833.682995</td>\n",
       "      <td>870.932886</td>\n",
       "      <td>880.291503</td>\n",
       "      <td>-53.400510</td>\n",
       "      <td>-53.400510</td>\n",
       "      <td>-53.400510</td>\n",
       "      <td>-53.400510</td>\n",
       "      <td>-53.400510</td>\n",
       "      <td>-53.400510</td>\n",
       "      <td>0.0</td>\n",
       "      <td>0.0</td>\n",
       "      <td>0.0</td>\n",
       "      <td>821.779740</td>\n",
       "    </tr>\n",
       "    <tr>\n",
       "      <th>531</th>\n",
       "      <td>1976-11-29</td>\n",
       "      <td>875.198668</td>\n",
       "      <td>813.241637</td>\n",
       "      <td>836.554049</td>\n",
       "      <td>870.935430</td>\n",
       "      <td>880.330820</td>\n",
       "      <td>-49.922769</td>\n",
       "      <td>-49.922769</td>\n",
       "      <td>-49.922769</td>\n",
       "      <td>-49.922769</td>\n",
       "      <td>-49.922769</td>\n",
       "      <td>-49.922769</td>\n",
       "      <td>0.0</td>\n",
       "      <td>0.0</td>\n",
       "      <td>0.0</td>\n",
       "      <td>825.275899</td>\n",
       "    </tr>\n",
       "    <tr>\n",
       "      <th>532</th>\n",
       "      <td>1976-11-30</td>\n",
       "      <td>875.217086</td>\n",
       "      <td>818.388459</td>\n",
       "      <td>840.411532</td>\n",
       "      <td>870.938614</td>\n",
       "      <td>880.370137</td>\n",
       "      <td>-46.408242</td>\n",
       "      <td>-46.408242</td>\n",
       "      <td>-46.408242</td>\n",
       "      <td>-46.408242</td>\n",
       "      <td>-46.408242</td>\n",
       "      <td>-46.408242</td>\n",
       "      <td>0.0</td>\n",
       "      <td>0.0</td>\n",
       "      <td>0.0</td>\n",
       "      <td>828.808844</td>\n",
       "    </tr>\n",
       "  </tbody>\n",
       "</table>\n",
       "<p>533 rows × 16 columns</p>\n",
       "</div>"
      ],
      "text/plain": [
       "            ds       trend  yhat_lower  yhat_upper  trend_lower  trend_upper  \\\n",
       "0   1962-01-01  606.849794  576.773188  596.555643   606.849794   606.849794   \n",
       "1   1962-02-01  608.569237  535.771025  556.004242   608.569237   608.569237   \n",
       "2   1962-03-01  610.122282  632.068986  651.297963   610.122282   610.122282   \n",
       "3   1962-04-01  611.841725  647.823512  668.481735   611.841725   611.841725   \n",
       "4   1962-05-01  613.505703  711.690249  731.924377   613.505703   613.505703   \n",
       "..         ...         ...         ...         ...          ...          ...   \n",
       "528 1976-11-26  875.143414  803.768403  827.379249   870.953939   880.212869   \n",
       "529 1976-11-27  875.161832  808.288977  829.330297   870.942349   880.252186   \n",
       "530 1976-11-28  875.180250  810.989030  833.682995   870.932886   880.291503   \n",
       "531 1976-11-29  875.198668  813.241637  836.554049   870.935430   880.330820   \n",
       "532 1976-11-30  875.217086  818.388459  840.411532   870.938614   880.370137   \n",
       "\n",
       "     additive_terms  additive_terms_lower  additive_terms_upper      yearly  \\\n",
       "0        -20.104687            -20.104687            -20.104687  -20.104687   \n",
       "1        -62.543222            -62.543222            -62.543222  -62.543222   \n",
       "2         31.413370             31.413370             31.413370   31.413370   \n",
       "3         46.743537             46.743537             46.743537   46.743537   \n",
       "4        108.056343            108.056343            108.056343  108.056343   \n",
       "..              ...                   ...                   ...         ...   \n",
       "528      -59.972681            -59.972681            -59.972681  -59.972681   \n",
       "529      -56.771512            -56.771512            -56.771512  -56.771512   \n",
       "530      -53.400510            -53.400510            -53.400510  -53.400510   \n",
       "531      -49.922769            -49.922769            -49.922769  -49.922769   \n",
       "532      -46.408242            -46.408242            -46.408242  -46.408242   \n",
       "\n",
       "     yearly_lower  yearly_upper  multiplicative_terms  \\\n",
       "0      -20.104687    -20.104687                   0.0   \n",
       "1      -62.543222    -62.543222                   0.0   \n",
       "2       31.413370     31.413370                   0.0   \n",
       "3       46.743537     46.743537                   0.0   \n",
       "4      108.056343    108.056343                   0.0   \n",
       "..            ...           ...                   ...   \n",
       "528    -59.972681    -59.972681                   0.0   \n",
       "529    -56.771512    -56.771512                   0.0   \n",
       "530    -53.400510    -53.400510                   0.0   \n",
       "531    -49.922769    -49.922769                   0.0   \n",
       "532    -46.408242    -46.408242                   0.0   \n",
       "\n",
       "     multiplicative_terms_lower  multiplicative_terms_upper        yhat  \n",
       "0                           0.0                         0.0  586.745106  \n",
       "1                           0.0                         0.0  546.026015  \n",
       "2                           0.0                         0.0  641.535653  \n",
       "3                           0.0                         0.0  658.585263  \n",
       "4                           0.0                         0.0  721.562045  \n",
       "..                          ...                         ...         ...  \n",
       "528                         0.0                         0.0  815.170733  \n",
       "529                         0.0                         0.0  818.390320  \n",
       "530                         0.0                         0.0  821.779740  \n",
       "531                         0.0                         0.0  825.275899  \n",
       "532                         0.0                         0.0  828.808844  \n",
       "\n",
       "[533 rows x 16 columns]"
      ]
     },
     "execution_count": 89,
     "metadata": {},
     "output_type": "execute_result"
    }
   ],
   "source": [
    "pred"
   ]
  },
  {
   "cell_type": "code",
   "execution_count": 90,
   "metadata": {},
   "outputs": [
    {
     "data": {
      "text/html": [
       "<div>\n",
       "<style scoped>\n",
       "    .dataframe tbody tr th:only-of-type {\n",
       "        vertical-align: middle;\n",
       "    }\n",
       "\n",
       "    .dataframe tbody tr th {\n",
       "        vertical-align: top;\n",
       "    }\n",
       "\n",
       "    .dataframe thead th {\n",
       "        text-align: right;\n",
       "    }\n",
       "</style>\n",
       "<table border=\"1\" class=\"dataframe\">\n",
       "  <thead>\n",
       "    <tr style=\"text-align: right;\">\n",
       "      <th></th>\n",
       "      <th>ds</th>\n",
       "      <th>yhat</th>\n",
       "      <th>yhat_lower</th>\n",
       "      <th>yhat_upper</th>\n",
       "    </tr>\n",
       "  </thead>\n",
       "  <tbody>\n",
       "    <tr>\n",
       "      <th>0</th>\n",
       "      <td>1962-01-01</td>\n",
       "      <td>586.745106</td>\n",
       "      <td>576.773188</td>\n",
       "      <td>596.555643</td>\n",
       "    </tr>\n",
       "    <tr>\n",
       "      <th>1</th>\n",
       "      <td>1962-02-01</td>\n",
       "      <td>546.026015</td>\n",
       "      <td>535.771025</td>\n",
       "      <td>556.004242</td>\n",
       "    </tr>\n",
       "    <tr>\n",
       "      <th>2</th>\n",
       "      <td>1962-03-01</td>\n",
       "      <td>641.535653</td>\n",
       "      <td>632.068986</td>\n",
       "      <td>651.297963</td>\n",
       "    </tr>\n",
       "    <tr>\n",
       "      <th>3</th>\n",
       "      <td>1962-04-01</td>\n",
       "      <td>658.585263</td>\n",
       "      <td>647.823512</td>\n",
       "      <td>668.481735</td>\n",
       "    </tr>\n",
       "    <tr>\n",
       "      <th>4</th>\n",
       "      <td>1962-05-01</td>\n",
       "      <td>721.562045</td>\n",
       "      <td>711.690249</td>\n",
       "      <td>731.924377</td>\n",
       "    </tr>\n",
       "  </tbody>\n",
       "</table>\n",
       "</div>"
      ],
      "text/plain": [
       "          ds        yhat  yhat_lower  yhat_upper\n",
       "0 1962-01-01  586.745106  576.773188  596.555643\n",
       "1 1962-02-01  546.026015  535.771025  556.004242\n",
       "2 1962-03-01  641.535653  632.068986  651.297963\n",
       "3 1962-04-01  658.585263  647.823512  668.481735\n",
       "4 1962-05-01  721.562045  711.690249  731.924377"
      ]
     },
     "execution_count": 90,
     "metadata": {},
     "output_type": "execute_result"
    }
   ],
   "source": [
    "pred[[\"ds\",\"yhat\",\"yhat_lower\",\"yhat_upper\"]].head()"
   ]
  },
  {
   "cell_type": "code",
   "execution_count": 91,
   "metadata": {},
   "outputs": [
    {
     "data": {
      "image/png": "[encoded data removed]",
      "text/plain": [
       "<Figure size 720x432 with 1 Axes>"
      ]
     },
     "execution_count": 91,
     "metadata": {},
     "output_type": "execute_result"
    },
    {
     "data": {
      "image/png": "[encoded data removed]",
      "text/plain": [
       "<Figure size 720x432 with 1 Axes>"
      ]
     },
     "metadata": {},
     "output_type": "display_data"
    }
   ],
   "source": [
    "#forecasting\n",
    "model.plot(pred)"
   ]
  },
  {
   "cell_type": "code",
   "execution_count": 92,
   "metadata": {},
   "outputs": [
    {
     "data": {
      "image/png": "[encoded data removed]",
      "text/plain": [
       "<Figure size 648x432 with 2 Axes>"
      ]
     },
     "execution_count": 92,
     "metadata": {},
     "output_type": "execute_result"
    },
    {
     "data": {
      "image/png": "[encoded data removed]",
      "text/plain": [
       "<Figure size 648x432 with 2 Axes>"
      ]
     },
     "metadata": {},
     "output_type": "display_data"
    }
   ],
   "source": [
    "##### Visualize Each Components[Trends,Weekly]\n",
    "model.plot_components(pred)"
   ]
  },
  {
   "cell_type": "code",
   "execution_count": 93,
   "metadata": {},
   "outputs": [],
   "source": [
    "from fbprophet.diagnostics import cross_validation"
   ]
  },
  {
   "cell_type": "code",
   "execution_count": 94,
   "metadata": {},
   "outputs": [
    {
     "name": "stdout",
     "output_type": "stream",
     "text": [
      "days= 545\n"
     ]
    }
   ],
   "source": [
    "print(\"days=\",365+180)"
   ]
  },
  {
   "cell_type": "markdown",
   "metadata": {},
   "source": [
    "This cross validation procedure can be done automatically for a range of historical cutoffs using the cross_validation function. We specify the forecast horizon (horizon), and then optionally the size of the initial training period (initial) and the spacing between cutoff dates (period). By default, the initial training period is set to three times the horizon, and cutoffs are made every half a horizon.\n",
    "\n",
    "The output of cross_validation is a dataframe with the true values y and the out-of-sample forecast values yhat, at each simulated forecast date and for each cutoff date. In particular, a forecast is made for every observed point between cutoff and cutoff + horizon. This dataframe can then be used to compute error measures of yhat vs. y."
   ]
  },
  {
   "cell_type": "code",
   "execution_count": 95,
   "metadata": {},
   "outputs": [
    {
     "name": "stderr",
     "output_type": "stream",
     "text": [
      "INFO:fbprophet:Making 21 forecasts with cutoffs between 1965-01-22 00:00:00 and 1974-12-01 00:00:00\n"
     ]
    },
    {
     "data": {
      "application/vnd.jupyter.widget-view+json": {
       "model_id": "eed96684da3d41bd9b288648be14b8f7",
       "version_major": 2,
       "version_minor": 0
      },
      "text/plain": [
       "HBox(children=(HTML(value=''), FloatProgress(value=0.0, max=21.0), HTML(value='')))"
      ]
     },
     "metadata": {},
     "output_type": "display_data"
    },
    {
     "name": "stdout",
     "output_type": "stream",
     "text": [
      "\n"
     ]
    }
   ],
   "source": [
    "df_cv= cross_validation(model, horizon=\"365 days\", period= \"180 days\", initial= \"1095 days\")"
   ]
  },
  {
   "cell_type": "code",
   "execution_count": 96,
   "metadata": {},
   "outputs": [
    {
     "data": {
      "text/plain": [
       "1512"
      ]
     },
     "execution_count": 96,
     "metadata": {},
     "output_type": "execute_result"
    }
   ],
   "source": [
    "df_cv.size"
   ]
  },
  {
   "cell_type": "code",
   "execution_count": 97,
   "metadata": {},
   "outputs": [
    {
     "data": {
      "text/plain": [
       "(252, 6)"
      ]
     },
     "execution_count": 97,
     "metadata": {},
     "output_type": "execute_result"
    }
   ],
   "source": [
    "df_cv.shape"
   ]
  },
  {
   "cell_type": "code",
   "execution_count": 98,
   "metadata": {},
   "outputs": [
    {
     "data": {
      "text/plain": [
       "185"
      ]
     },
     "execution_count": 98,
     "metadata": {},
     "output_type": "execute_result"
    }
   ],
   "source": [
    "365-180"
   ]
  },
  {
   "cell_type": "code",
   "execution_count": 99,
   "metadata": {},
   "outputs": [
    {
     "data": {
      "text/html": [
       "<div>\n",
       "<style scoped>\n",
       "    .dataframe tbody tr th:only-of-type {\n",
       "        vertical-align: middle;\n",
       "    }\n",
       "\n",
       "    .dataframe tbody tr th {\n",
       "        vertical-align: top;\n",
       "    }\n",
       "\n",
       "    .dataframe thead th {\n",
       "        text-align: right;\n",
       "    }\n",
       "</style>\n",
       "<table border=\"1\" class=\"dataframe\">\n",
       "  <thead>\n",
       "    <tr style=\"text-align: right;\">\n",
       "      <th></th>\n",
       "      <th>ds</th>\n",
       "      <th>yhat</th>\n",
       "      <th>yhat_lower</th>\n",
       "      <th>yhat_upper</th>\n",
       "      <th>y</th>\n",
       "      <th>cutoff</th>\n",
       "    </tr>\n",
       "  </thead>\n",
       "  <tbody>\n",
       "    <tr>\n",
       "      <th>0</th>\n",
       "      <td>1965-02-01</td>\n",
       "      <td>619.087141</td>\n",
       "      <td>617.180839</td>\n",
       "      <td>620.808115</td>\n",
       "      <td>622</td>\n",
       "      <td>1965-01-22</td>\n",
       "    </tr>\n",
       "    <tr>\n",
       "      <th>1</th>\n",
       "      <td>1965-03-01</td>\n",
       "      <td>697.071986</td>\n",
       "      <td>690.476948</td>\n",
       "      <td>702.877583</td>\n",
       "      <td>709</td>\n",
       "      <td>1965-01-22</td>\n",
       "    </tr>\n",
       "    <tr>\n",
       "      <th>2</th>\n",
       "      <td>1965-04-01</td>\n",
       "      <td>709.290761</td>\n",
       "      <td>695.398442</td>\n",
       "      <td>721.213713</td>\n",
       "      <td>722</td>\n",
       "      <td>1965-01-22</td>\n",
       "    </tr>\n",
       "    <tr>\n",
       "      <th>3</th>\n",
       "      <td>1965-05-01</td>\n",
       "      <td>774.436723</td>\n",
       "      <td>752.580478</td>\n",
       "      <td>795.291258</td>\n",
       "      <td>782</td>\n",
       "      <td>1965-01-22</td>\n",
       "    </tr>\n",
       "    <tr>\n",
       "      <th>4</th>\n",
       "      <td>1965-06-01</td>\n",
       "      <td>742.879282</td>\n",
       "      <td>711.528888</td>\n",
       "      <td>773.506527</td>\n",
       "      <td>756</td>\n",
       "      <td>1965-01-22</td>\n",
       "    </tr>\n",
       "  </tbody>\n",
       "</table>\n",
       "</div>"
      ],
      "text/plain": [
       "          ds        yhat  yhat_lower  yhat_upper    y     cutoff\n",
       "0 1965-02-01  619.087141  617.180839  620.808115  622 1965-01-22\n",
       "1 1965-03-01  697.071986  690.476948  702.877583  709 1965-01-22\n",
       "2 1965-04-01  709.290761  695.398442  721.213713  722 1965-01-22\n",
       "3 1965-05-01  774.436723  752.580478  795.291258  782 1965-01-22\n",
       "4 1965-06-01  742.879282  711.528888  773.506527  756 1965-01-22"
      ]
     },
     "execution_count": 99,
     "metadata": {},
     "output_type": "execute_result"
    }
   ],
   "source": [
    "df_cv.head()"
   ]
  },
  {
   "cell_type": "code",
   "execution_count": 100,
   "metadata": {},
   "outputs": [
    {
     "data": {
      "text/html": [
       "<div>\n",
       "<style scoped>\n",
       "    .dataframe tbody tr th:only-of-type {\n",
       "        vertical-align: middle;\n",
       "    }\n",
       "\n",
       "    .dataframe tbody tr th {\n",
       "        vertical-align: top;\n",
       "    }\n",
       "\n",
       "    .dataframe thead th {\n",
       "        text-align: right;\n",
       "    }\n",
       "</style>\n",
       "<table border=\"1\" class=\"dataframe\">\n",
       "  <thead>\n",
       "    <tr style=\"text-align: right;\">\n",
       "      <th></th>\n",
       "      <th>ds</th>\n",
       "      <th>yhat</th>\n",
       "      <th>yhat_lower</th>\n",
       "      <th>yhat_upper</th>\n",
       "      <th>y</th>\n",
       "      <th>cutoff</th>\n",
       "    </tr>\n",
       "  </thead>\n",
       "  <tbody>\n",
       "    <tr>\n",
       "      <th>247</th>\n",
       "      <td>1975-08-01</td>\n",
       "      <td>850.582813</td>\n",
       "      <td>840.743287</td>\n",
       "      <td>860.808673</td>\n",
       "      <td>858</td>\n",
       "      <td>1974-12-01</td>\n",
       "    </tr>\n",
       "    <tr>\n",
       "      <th>248</th>\n",
       "      <td>1975-09-01</td>\n",
       "      <td>808.189317</td>\n",
       "      <td>798.314462</td>\n",
       "      <td>818.484895</td>\n",
       "      <td>817</td>\n",
       "      <td>1974-12-01</td>\n",
       "    </tr>\n",
       "    <tr>\n",
       "      <th>249</th>\n",
       "      <td>1975-10-01</td>\n",
       "      <td>811.611644</td>\n",
       "      <td>801.930270</td>\n",
       "      <td>821.730368</td>\n",
       "      <td>827</td>\n",
       "      <td>1974-12-01</td>\n",
       "    </tr>\n",
       "    <tr>\n",
       "      <th>250</th>\n",
       "      <td>1975-11-01</td>\n",
       "      <td>779.609808</td>\n",
       "      <td>768.581599</td>\n",
       "      <td>790.684333</td>\n",
       "      <td>797</td>\n",
       "      <td>1974-12-01</td>\n",
       "    </tr>\n",
       "    <tr>\n",
       "      <th>251</th>\n",
       "      <td>1975-12-01</td>\n",
       "      <td>814.158114</td>\n",
       "      <td>802.668838</td>\n",
       "      <td>825.454671</td>\n",
       "      <td>843</td>\n",
       "      <td>1974-12-01</td>\n",
       "    </tr>\n",
       "  </tbody>\n",
       "</table>\n",
       "</div>"
      ],
      "text/plain": [
       "            ds        yhat  yhat_lower  yhat_upper    y     cutoff\n",
       "247 1975-08-01  850.582813  840.743287  860.808673  858 1974-12-01\n",
       "248 1975-09-01  808.189317  798.314462  818.484895  817 1974-12-01\n",
       "249 1975-10-01  811.611644  801.930270  821.730368  827 1974-12-01\n",
       "250 1975-11-01  779.609808  768.581599  790.684333  797 1974-12-01\n",
       "251 1975-12-01  814.158114  802.668838  825.454671  843 1974-12-01"
      ]
     },
     "execution_count": 100,
     "metadata": {},
     "output_type": "execute_result"
    }
   ],
   "source": [
    "df_cv.tail()"
   ]
  },
  {
   "cell_type": "code",
   "execution_count": 101,
   "metadata": {},
   "outputs": [],
   "source": [
    "from fbprophet.diagnostics import performance_metrics"
   ]
  },
  {
   "cell_type": "code",
   "execution_count": 102,
   "metadata": {},
   "outputs": [],
   "source": [
    "df_per= performance_metrics(df_cv)"
   ]
  },
  {
   "cell_type": "code",
   "execution_count": 103,
   "metadata": {},
   "outputs": [
    {
     "data": {
      "text/plain": [
       "(185, 7)"
      ]
     },
     "execution_count": 103,
     "metadata": {},
     "output_type": "execute_result"
    }
   ],
   "source": [
    "df_per.shape"
   ]
  },
  {
   "cell_type": "code",
   "execution_count": 104,
   "metadata": {},
   "outputs": [
    {
     "data": {
      "text/html": [
       "<div>\n",
       "<style scoped>\n",
       "    .dataframe tbody tr th:only-of-type {\n",
       "        vertical-align: middle;\n",
       "    }\n",
       "\n",
       "    .dataframe tbody tr th {\n",
       "        vertical-align: top;\n",
       "    }\n",
       "\n",
       "    .dataframe thead th {\n",
       "        text-align: right;\n",
       "    }\n",
       "</style>\n",
       "<table border=\"1\" class=\"dataframe\">\n",
       "  <thead>\n",
       "    <tr style=\"text-align: right;\">\n",
       "      <th></th>\n",
       "      <th>horizon</th>\n",
       "      <th>mse</th>\n",
       "      <th>rmse</th>\n",
       "      <th>mae</th>\n",
       "      <th>mape</th>\n",
       "      <th>mdape</th>\n",
       "      <th>coverage</th>\n",
       "    </tr>\n",
       "  </thead>\n",
       "  <tbody>\n",
       "    <tr>\n",
       "      <th>0</th>\n",
       "      <td>38 days</td>\n",
       "      <td>257.644337</td>\n",
       "      <td>16.051303</td>\n",
       "      <td>12.572310</td>\n",
       "      <td>0.016147</td>\n",
       "      <td>0.014236</td>\n",
       "      <td>0.28</td>\n",
       "    </tr>\n",
       "    <tr>\n",
       "      <th>1</th>\n",
       "      <td>41 days</td>\n",
       "      <td>255.691801</td>\n",
       "      <td>15.990366</td>\n",
       "      <td>12.493472</td>\n",
       "      <td>0.016083</td>\n",
       "      <td>0.014236</td>\n",
       "      <td>0.28</td>\n",
       "    </tr>\n",
       "    <tr>\n",
       "      <th>2</th>\n",
       "      <td>42 days</td>\n",
       "      <td>271.279611</td>\n",
       "      <td>16.470568</td>\n",
       "      <td>12.972159</td>\n",
       "      <td>0.016746</td>\n",
       "      <td>0.014528</td>\n",
       "      <td>0.28</td>\n",
       "    </tr>\n",
       "    <tr>\n",
       "      <th>3</th>\n",
       "      <td>43 days</td>\n",
       "      <td>273.143144</td>\n",
       "      <td>16.527043</td>\n",
       "      <td>13.204699</td>\n",
       "      <td>0.017115</td>\n",
       "      <td>0.014528</td>\n",
       "      <td>0.28</td>\n",
       "    </tr>\n",
       "    <tr>\n",
       "      <th>4</th>\n",
       "      <td>46 days</td>\n",
       "      <td>259.725549</td>\n",
       "      <td>16.116003</td>\n",
       "      <td>12.958665</td>\n",
       "      <td>0.016791</td>\n",
       "      <td>0.014528</td>\n",
       "      <td>0.28</td>\n",
       "    </tr>\n",
       "  </tbody>\n",
       "</table>\n",
       "</div>"
      ],
      "text/plain": [
       "  horizon         mse       rmse        mae      mape     mdape  coverage\n",
       "0 38 days  257.644337  16.051303  12.572310  0.016147  0.014236      0.28\n",
       "1 41 days  255.691801  15.990366  12.493472  0.016083  0.014236      0.28\n",
       "2 42 days  271.279611  16.470568  12.972159  0.016746  0.014528      0.28\n",
       "3 43 days  273.143144  16.527043  13.204699  0.017115  0.014528      0.28\n",
       "4 46 days  259.725549  16.116003  12.958665  0.016791  0.014528      0.28"
      ]
     },
     "execution_count": 104,
     "metadata": {},
     "output_type": "execute_result"
    }
   ],
   "source": [
    "df_per.head()"
   ]
  },
  {
   "cell_type": "code",
   "execution_count": 105,
   "metadata": {},
   "outputs": [
    {
     "data": {
      "text/html": [
       "<div>\n",
       "<style scoped>\n",
       "    .dataframe tbody tr th:only-of-type {\n",
       "        vertical-align: middle;\n",
       "    }\n",
       "\n",
       "    .dataframe tbody tr th {\n",
       "        vertical-align: top;\n",
       "    }\n",
       "\n",
       "    .dataframe thead th {\n",
       "        text-align: right;\n",
       "    }\n",
       "</style>\n",
       "<table border=\"1\" class=\"dataframe\">\n",
       "  <thead>\n",
       "    <tr style=\"text-align: right;\">\n",
       "      <th></th>\n",
       "      <th>horizon</th>\n",
       "      <th>mse</th>\n",
       "      <th>rmse</th>\n",
       "      <th>mae</th>\n",
       "      <th>mape</th>\n",
       "      <th>mdape</th>\n",
       "      <th>coverage</th>\n",
       "    </tr>\n",
       "  </thead>\n",
       "  <tbody>\n",
       "    <tr>\n",
       "      <th>180</th>\n",
       "      <td>357 days</td>\n",
       "      <td>881.141224</td>\n",
       "      <td>29.684023</td>\n",
       "      <td>22.511721</td>\n",
       "      <td>0.028321</td>\n",
       "      <td>0.021820</td>\n",
       "      <td>0.40</td>\n",
       "    </tr>\n",
       "    <tr>\n",
       "      <th>181</th>\n",
       "      <td>360 days</td>\n",
       "      <td>687.891427</td>\n",
       "      <td>26.227684</td>\n",
       "      <td>19.452020</td>\n",
       "      <td>0.024156</td>\n",
       "      <td>0.017203</td>\n",
       "      <td>0.44</td>\n",
       "    </tr>\n",
       "    <tr>\n",
       "      <th>182</th>\n",
       "      <td>361 days</td>\n",
       "      <td>675.174515</td>\n",
       "      <td>25.984120</td>\n",
       "      <td>19.054909</td>\n",
       "      <td>0.023753</td>\n",
       "      <td>0.014183</td>\n",
       "      <td>0.44</td>\n",
       "    </tr>\n",
       "    <tr>\n",
       "      <th>183</th>\n",
       "      <td>362 days</td>\n",
       "      <td>658.322393</td>\n",
       "      <td>25.657794</td>\n",
       "      <td>18.347110</td>\n",
       "      <td>0.022942</td>\n",
       "      <td>0.013880</td>\n",
       "      <td>0.48</td>\n",
       "    </tr>\n",
       "    <tr>\n",
       "      <th>184</th>\n",
       "      <td>365 days</td>\n",
       "      <td>689.693127</td>\n",
       "      <td>26.262009</td>\n",
       "      <td>19.319182</td>\n",
       "      <td>0.024046</td>\n",
       "      <td>0.014183</td>\n",
       "      <td>0.44</td>\n",
       "    </tr>\n",
       "  </tbody>\n",
       "</table>\n",
       "</div>"
      ],
      "text/plain": [
       "     horizon         mse       rmse        mae      mape     mdape  coverage\n",
       "180 357 days  881.141224  29.684023  22.511721  0.028321  0.021820      0.40\n",
       "181 360 days  687.891427  26.227684  19.452020  0.024156  0.017203      0.44\n",
       "182 361 days  675.174515  25.984120  19.054909  0.023753  0.014183      0.44\n",
       "183 362 days  658.322393  25.657794  18.347110  0.022942  0.013880      0.48\n",
       "184 365 days  689.693127  26.262009  19.319182  0.024046  0.014183      0.44"
      ]
     },
     "execution_count": 105,
     "metadata": {},
     "output_type": "execute_result"
    }
   ],
   "source": [
    "df_per.tail()"
   ]
  },
  {
   "cell_type": "code",
   "execution_count": 106,
   "metadata": {},
   "outputs": [
    {
     "data": {
      "text/html": [
       "<div>\n",
       "<style scoped>\n",
       "    .dataframe tbody tr th:only-of-type {\n",
       "        vertical-align: middle;\n",
       "    }\n",
       "\n",
       "    .dataframe tbody tr th {\n",
       "        vertical-align: top;\n",
       "    }\n",
       "\n",
       "    .dataframe thead th {\n",
       "        text-align: right;\n",
       "    }\n",
       "</style>\n",
       "<table border=\"1\" class=\"dataframe\">\n",
       "  <thead>\n",
       "    <tr style=\"text-align: right;\">\n",
       "      <th></th>\n",
       "      <th>horizon</th>\n",
       "      <th>mse</th>\n",
       "      <th>rmse</th>\n",
       "      <th>mae</th>\n",
       "      <th>mape</th>\n",
       "      <th>mdape</th>\n",
       "      <th>coverage</th>\n",
       "    </tr>\n",
       "  </thead>\n",
       "  <tbody>\n",
       "    <tr>\n",
       "      <th>0</th>\n",
       "      <td>38 days</td>\n",
       "      <td>257.644337</td>\n",
       "      <td>16.051303</td>\n",
       "      <td>12.572310</td>\n",
       "      <td>0.016147</td>\n",
       "      <td>0.014236</td>\n",
       "      <td>0.28</td>\n",
       "    </tr>\n",
       "    <tr>\n",
       "      <th>1</th>\n",
       "      <td>41 days</td>\n",
       "      <td>255.691801</td>\n",
       "      <td>15.990366</td>\n",
       "      <td>12.493472</td>\n",
       "      <td>0.016083</td>\n",
       "      <td>0.014236</td>\n",
       "      <td>0.28</td>\n",
       "    </tr>\n",
       "    <tr>\n",
       "      <th>2</th>\n",
       "      <td>42 days</td>\n",
       "      <td>271.279611</td>\n",
       "      <td>16.470568</td>\n",
       "      <td>12.972159</td>\n",
       "      <td>0.016746</td>\n",
       "      <td>0.014528</td>\n",
       "      <td>0.28</td>\n",
       "    </tr>\n",
       "    <tr>\n",
       "      <th>3</th>\n",
       "      <td>43 days</td>\n",
       "      <td>273.143144</td>\n",
       "      <td>16.527043</td>\n",
       "      <td>13.204699</td>\n",
       "      <td>0.017115</td>\n",
       "      <td>0.014528</td>\n",
       "      <td>0.28</td>\n",
       "    </tr>\n",
       "    <tr>\n",
       "      <th>4</th>\n",
       "      <td>46 days</td>\n",
       "      <td>259.725549</td>\n",
       "      <td>16.116003</td>\n",
       "      <td>12.958665</td>\n",
       "      <td>0.016791</td>\n",
       "      <td>0.014528</td>\n",
       "      <td>0.28</td>\n",
       "    </tr>\n",
       "    <tr>\n",
       "      <th>...</th>\n",
       "      <td>...</td>\n",
       "      <td>...</td>\n",
       "      <td>...</td>\n",
       "      <td>...</td>\n",
       "      <td>...</td>\n",
       "      <td>...</td>\n",
       "      <td>...</td>\n",
       "    </tr>\n",
       "    <tr>\n",
       "      <th>180</th>\n",
       "      <td>357 days</td>\n",
       "      <td>881.141224</td>\n",
       "      <td>29.684023</td>\n",
       "      <td>22.511721</td>\n",
       "      <td>0.028321</td>\n",
       "      <td>0.021820</td>\n",
       "      <td>0.40</td>\n",
       "    </tr>\n",
       "    <tr>\n",
       "      <th>181</th>\n",
       "      <td>360 days</td>\n",
       "      <td>687.891427</td>\n",
       "      <td>26.227684</td>\n",
       "      <td>19.452020</td>\n",
       "      <td>0.024156</td>\n",
       "      <td>0.017203</td>\n",
       "      <td>0.44</td>\n",
       "    </tr>\n",
       "    <tr>\n",
       "      <th>182</th>\n",
       "      <td>361 days</td>\n",
       "      <td>675.174515</td>\n",
       "      <td>25.984120</td>\n",
       "      <td>19.054909</td>\n",
       "      <td>0.023753</td>\n",
       "      <td>0.014183</td>\n",
       "      <td>0.44</td>\n",
       "    </tr>\n",
       "    <tr>\n",
       "      <th>183</th>\n",
       "      <td>362 days</td>\n",
       "      <td>658.322393</td>\n",
       "      <td>25.657794</td>\n",
       "      <td>18.347110</td>\n",
       "      <td>0.022942</td>\n",
       "      <td>0.013880</td>\n",
       "      <td>0.48</td>\n",
       "    </tr>\n",
       "    <tr>\n",
       "      <th>184</th>\n",
       "      <td>365 days</td>\n",
       "      <td>689.693127</td>\n",
       "      <td>26.262009</td>\n",
       "      <td>19.319182</td>\n",
       "      <td>0.024046</td>\n",
       "      <td>0.014183</td>\n",
       "      <td>0.44</td>\n",
       "    </tr>\n",
       "  </tbody>\n",
       "</table>\n",
       "<p>185 rows × 7 columns</p>\n",
       "</div>"
      ],
      "text/plain": [
       "     horizon         mse       rmse        mae      mape     mdape  coverage\n",
       "0    38 days  257.644337  16.051303  12.572310  0.016147  0.014236      0.28\n",
       "1    41 days  255.691801  15.990366  12.493472  0.016083  0.014236      0.28\n",
       "2    42 days  271.279611  16.470568  12.972159  0.016746  0.014528      0.28\n",
       "3    43 days  273.143144  16.527043  13.204699  0.017115  0.014528      0.28\n",
       "4    46 days  259.725549  16.116003  12.958665  0.016791  0.014528      0.28\n",
       "..       ...         ...        ...        ...       ...       ...       ...\n",
       "180 357 days  881.141224  29.684023  22.511721  0.028321  0.021820      0.40\n",
       "181 360 days  687.891427  26.227684  19.452020  0.024156  0.017203      0.44\n",
       "182 361 days  675.174515  25.984120  19.054909  0.023753  0.014183      0.44\n",
       "183 362 days  658.322393  25.657794  18.347110  0.022942  0.013880      0.48\n",
       "184 365 days  689.693127  26.262009  19.319182  0.024046  0.014183      0.44\n",
       "\n",
       "[185 rows x 7 columns]"
      ]
     },
     "execution_count": 106,
     "metadata": {},
     "output_type": "execute_result"
    }
   ],
   "source": [
    "df_per"
   ]
  },
  {
   "cell_type": "code",
   "execution_count": 107,
   "metadata": {},
   "outputs": [],
   "source": [
    "from fbprophet.plot import plot_cross_validation_metric"
   ]
  },
  {
   "cell_type": "code",
   "execution_count": 108,
   "metadata": {},
   "outputs": [
    {
     "data": {
      "image/png": "[encoded data removed]",
      "text/plain": [
       "<Figure size 720x432 with 1 Axes>"
      ]
     },
     "metadata": {},
     "output_type": "display_data"
    }
   ],
   "source": [
    "fig=plot_cross_validation_metric(df_cv, metric=\"rmse\")"
   ]
  }
 ],
 "metadata": {
  "kernelspec": {
   "display_name": "Python 3",
   "language": "python",
   "name": "python3"
  },
  "language_info": {
   "codemirror_mode": {
    "name": "ipython",
    "version": 3
   },
   "file_extension": ".py",
   "mimetype": "text/x-python",
   "name": "python",
   "nbconvert_exporter": "python",
   "pygments_lexer": "ipython3",
   "version": "3.8.3"
  }
 },
 "nbformat": 4,
 "nbformat_minor": 4
}
